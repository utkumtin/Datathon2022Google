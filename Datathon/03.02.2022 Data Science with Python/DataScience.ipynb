{
 "cells": [
  {
   "cell_type": "code",
   "execution_count": 2,
   "metadata": {},
   "outputs": [],
   "source": [
    "# importing the libraries\n",
    "import pandas as pd\n",
    "import matplotlib.pyplot as plt\n",
    "import numpy as np\n",
    "from collections import Counter\n",
    "\n",
    "# Disabling python warnings\n",
    "import warnings\n",
    "warnings.filterwarnings(\"ignore\")"
   ]
  },
  {
   "cell_type": "code",
   "execution_count": 3,
   "metadata": {},
   "outputs": [
    {
     "data": {
      "text/html": [
       "<div>\n",
       "<style scoped>\n",
       "    .dataframe tbody tr th:only-of-type {\n",
       "        vertical-align: middle;\n",
       "    }\n",
       "\n",
       "    .dataframe tbody tr th {\n",
       "        vertical-align: top;\n",
       "    }\n",
       "\n",
       "    .dataframe thead th {\n",
       "        text-align: right;\n",
       "    }\n",
       "</style>\n",
       "<table border=\"1\" class=\"dataframe\">\n",
       "  <thead>\n",
       "    <tr style=\"text-align: right;\">\n",
       "      <th></th>\n",
       "      <th>ID</th>\n",
       "      <th>Name</th>\n",
       "      <th>Gender</th>\n",
       "      <th>Age</th>\n",
       "      <th>Height</th>\n",
       "      <th>Weight</th>\n",
       "      <th>Team</th>\n",
       "      <th>NOC</th>\n",
       "      <th>Games</th>\n",
       "      <th>Year</th>\n",
       "      <th>Season</th>\n",
       "      <th>City</th>\n",
       "      <th>Sport</th>\n",
       "      <th>Event</th>\n",
       "      <th>Medal</th>\n",
       "    </tr>\n",
       "  </thead>\n",
       "  <tbody>\n",
       "    <tr>\n",
       "      <th>0</th>\n",
       "      <td>1</td>\n",
       "      <td>A Dijiang</td>\n",
       "      <td>M</td>\n",
       "      <td>24.0</td>\n",
       "      <td>180.0</td>\n",
       "      <td>80.0</td>\n",
       "      <td>China</td>\n",
       "      <td>CHN</td>\n",
       "      <td>1992 Summer</td>\n",
       "      <td>1992</td>\n",
       "      <td>Summer</td>\n",
       "      <td>Barcelona</td>\n",
       "      <td>Basketball</td>\n",
       "      <td>Basketball Men's Basketball</td>\n",
       "      <td>NaN</td>\n",
       "    </tr>\n",
       "    <tr>\n",
       "      <th>1</th>\n",
       "      <td>2</td>\n",
       "      <td>A Lamusi</td>\n",
       "      <td>M</td>\n",
       "      <td>23.0</td>\n",
       "      <td>170.0</td>\n",
       "      <td>60.0</td>\n",
       "      <td>China</td>\n",
       "      <td>CHN</td>\n",
       "      <td>2012 Summer</td>\n",
       "      <td>2012</td>\n",
       "      <td>Summer</td>\n",
       "      <td>London</td>\n",
       "      <td>Judo</td>\n",
       "      <td>Judo Men's Extra-Lightweight</td>\n",
       "      <td>NaN</td>\n",
       "    </tr>\n",
       "    <tr>\n",
       "      <th>2</th>\n",
       "      <td>3</td>\n",
       "      <td>Gunnar Nielsen Aaby</td>\n",
       "      <td>M</td>\n",
       "      <td>24.0</td>\n",
       "      <td>NaN</td>\n",
       "      <td>NaN</td>\n",
       "      <td>Denmark</td>\n",
       "      <td>DEN</td>\n",
       "      <td>1920 Summer</td>\n",
       "      <td>1920</td>\n",
       "      <td>Summer</td>\n",
       "      <td>Antwerpen</td>\n",
       "      <td>Football</td>\n",
       "      <td>Football Men's Football</td>\n",
       "      <td>NaN</td>\n",
       "    </tr>\n",
       "    <tr>\n",
       "      <th>3</th>\n",
       "      <td>4</td>\n",
       "      <td>Edgar Lindenau Aabye</td>\n",
       "      <td>M</td>\n",
       "      <td>34.0</td>\n",
       "      <td>NaN</td>\n",
       "      <td>NaN</td>\n",
       "      <td>Denmark/Sweden</td>\n",
       "      <td>DEN</td>\n",
       "      <td>1900 Summer</td>\n",
       "      <td>1900</td>\n",
       "      <td>Summer</td>\n",
       "      <td>Paris</td>\n",
       "      <td>Tug-Of-War</td>\n",
       "      <td>Tug-Of-War Men's Tug-Of-War</td>\n",
       "      <td>Gold</td>\n",
       "    </tr>\n",
       "    <tr>\n",
       "      <th>4</th>\n",
       "      <td>5</td>\n",
       "      <td>Christine Jacoba Aaftink</td>\n",
       "      <td>F</td>\n",
       "      <td>21.0</td>\n",
       "      <td>185.0</td>\n",
       "      <td>82.0</td>\n",
       "      <td>Netherlands</td>\n",
       "      <td>NED</td>\n",
       "      <td>1988 Winter</td>\n",
       "      <td>1988</td>\n",
       "      <td>Winter</td>\n",
       "      <td>Calgary</td>\n",
       "      <td>Speed Skating</td>\n",
       "      <td>Speed Skating Women's 500 metres</td>\n",
       "      <td>NaN</td>\n",
       "    </tr>\n",
       "  </tbody>\n",
       "</table>\n",
       "</div>"
      ],
      "text/plain": [
       "   ID                      Name Gender   Age  Height  Weight            Team  \\\n",
       "0   1                 A Dijiang      M  24.0   180.0    80.0           China   \n",
       "1   2                  A Lamusi      M  23.0   170.0    60.0           China   \n",
       "2   3       Gunnar Nielsen Aaby      M  24.0     NaN     NaN         Denmark   \n",
       "3   4      Edgar Lindenau Aabye      M  34.0     NaN     NaN  Denmark/Sweden   \n",
       "4   5  Christine Jacoba Aaftink      F  21.0   185.0    82.0     Netherlands   \n",
       "\n",
       "   NOC        Games  Year  Season       City          Sport  \\\n",
       "0  CHN  1992 Summer  1992  Summer  Barcelona     Basketball   \n",
       "1  CHN  2012 Summer  2012  Summer     London           Judo   \n",
       "2  DEN  1920 Summer  1920  Summer  Antwerpen       Football   \n",
       "3  DEN  1900 Summer  1900  Summer      Paris     Tug-Of-War   \n",
       "4  NED  1988 Winter  1988  Winter    Calgary  Speed Skating   \n",
       "\n",
       "                              Event Medal  \n",
       "0       Basketball Men's Basketball   NaN  \n",
       "1      Judo Men's Extra-Lightweight   NaN  \n",
       "2           Football Men's Football   NaN  \n",
       "3       Tug-Of-War Men's Tug-Of-War  Gold  \n",
       "4  Speed Skating Women's 500 metres   NaN  "
      ]
     },
     "execution_count": 3,
     "metadata": {},
     "output_type": "execute_result"
    }
   ],
   "source": [
    "# pulling data\n",
    "data = pd.read_csv(\"C:/Users/Utku/Desktop/Jupyter Notebook/Datathon/03.02.2022 Data Science with Python/olympics_dataset.csv\")\n",
    "data.head()"
   ]
  },
  {
   "cell_type": "code",
   "execution_count": 4,
   "metadata": {},
   "outputs": [
    {
     "name": "stdout",
     "output_type": "stream",
     "text": [
      "<class 'pandas.core.frame.DataFrame'>\n",
      "RangeIndex: 271116 entries, 0 to 271115\n",
      "Data columns (total 15 columns):\n",
      " #   Column  Non-Null Count   Dtype  \n",
      "---  ------  --------------   -----  \n",
      " 0   ID      271116 non-null  int64  \n",
      " 1   Name    271116 non-null  object \n",
      " 2   Gender  271116 non-null  object \n",
      " 3   Age     261642 non-null  float64\n",
      " 4   Height  210945 non-null  float64\n",
      " 5   Weight  208241 non-null  float64\n",
      " 6   Team    271116 non-null  object \n",
      " 7   NOC     271116 non-null  object \n",
      " 8   Games   271116 non-null  object \n",
      " 9   Year    271116 non-null  int64  \n",
      " 10  Season  271116 non-null  object \n",
      " 11  City    271116 non-null  object \n",
      " 12  Sport   271116 non-null  object \n",
      " 13  Event   271116 non-null  object \n",
      " 14  Medal   39783 non-null   object \n",
      "dtypes: float64(3), int64(2), object(10)\n",
      "memory usage: 31.0+ MB\n"
     ]
    }
   ],
   "source": [
    "data.info()"
   ]
  },
  {
   "cell_type": "code",
   "execution_count": 5,
   "metadata": {},
   "outputs": [
    {
     "data": {
      "text/plain": [
       "Index(['ID', 'Name', 'Gender', 'Age', 'Height', 'Weight', 'Team', 'NOC',\n",
       "       'Games', 'Year', 'Season', 'City', 'Sport', 'Event', 'Medal'],\n",
       "      dtype='object')"
      ]
     },
     "execution_count": 5,
     "metadata": {},
     "output_type": "execute_result"
    }
   ],
   "source": [
    "data.columns"
   ]
  },
  {
   "cell_type": "code",
   "execution_count": 6,
   "metadata": {},
   "outputs": [
    {
     "data": {
      "text/html": [
       "<div>\n",
       "<style scoped>\n",
       "    .dataframe tbody tr th:only-of-type {\n",
       "        vertical-align: middle;\n",
       "    }\n",
       "\n",
       "    .dataframe tbody tr th {\n",
       "        vertical-align: top;\n",
       "    }\n",
       "\n",
       "    .dataframe thead th {\n",
       "        text-align: right;\n",
       "    }\n",
       "</style>\n",
       "<table border=\"1\" class=\"dataframe\">\n",
       "  <thead>\n",
       "    <tr style=\"text-align: right;\">\n",
       "      <th></th>\n",
       "      <th>id</th>\n",
       "      <th>name</th>\n",
       "      <th>gender</th>\n",
       "      <th>age</th>\n",
       "      <th>height</th>\n",
       "      <th>weight</th>\n",
       "      <th>team</th>\n",
       "      <th>noc</th>\n",
       "      <th>games</th>\n",
       "      <th>year</th>\n",
       "      <th>season</th>\n",
       "      <th>city</th>\n",
       "      <th>sport</th>\n",
       "      <th>event</th>\n",
       "      <th>medal</th>\n",
       "    </tr>\n",
       "  </thead>\n",
       "  <tbody>\n",
       "    <tr>\n",
       "      <th>0</th>\n",
       "      <td>1</td>\n",
       "      <td>A Dijiang</td>\n",
       "      <td>M</td>\n",
       "      <td>24.0</td>\n",
       "      <td>180.0</td>\n",
       "      <td>80.0</td>\n",
       "      <td>China</td>\n",
       "      <td>CHN</td>\n",
       "      <td>1992 Summer</td>\n",
       "      <td>1992</td>\n",
       "      <td>Summer</td>\n",
       "      <td>Barcelona</td>\n",
       "      <td>Basketball</td>\n",
       "      <td>Basketball Men's Basketball</td>\n",
       "      <td>NaN</td>\n",
       "    </tr>\n",
       "    <tr>\n",
       "      <th>1</th>\n",
       "      <td>2</td>\n",
       "      <td>A Lamusi</td>\n",
       "      <td>M</td>\n",
       "      <td>23.0</td>\n",
       "      <td>170.0</td>\n",
       "      <td>60.0</td>\n",
       "      <td>China</td>\n",
       "      <td>CHN</td>\n",
       "      <td>2012 Summer</td>\n",
       "      <td>2012</td>\n",
       "      <td>Summer</td>\n",
       "      <td>London</td>\n",
       "      <td>Judo</td>\n",
       "      <td>Judo Men's Extra-Lightweight</td>\n",
       "      <td>NaN</td>\n",
       "    </tr>\n",
       "  </tbody>\n",
       "</table>\n",
       "</div>"
      ],
      "text/plain": [
       "   id       name gender   age  height  weight   team  noc        games  year  \\\n",
       "0   1  A Dijiang      M  24.0   180.0    80.0  China  CHN  1992 Summer  1992   \n",
       "1   2   A Lamusi      M  23.0   170.0    60.0  China  CHN  2012 Summer  2012   \n",
       "\n",
       "   season       city       sport                         event medal  \n",
       "0  Summer  Barcelona  Basketball   Basketball Men's Basketball   NaN  \n",
       "1  Summer     London        Judo  Judo Men's Extra-Lightweight   NaN  "
      ]
     },
     "execution_count": 6,
     "metadata": {},
     "output_type": "execute_result"
    }
   ],
   "source": [
    "# Changing the columns name\n",
    "data.rename(columns = {\"ID\"     : 'id',\n",
    "                       \"Name\"   : 'name',\n",
    "                       \"Gender\" : 'gender',\n",
    "                       \"Age\"    : 'age',\n",
    "                       \"Height\" : 'height',\n",
    "                       \"Weight\" : 'weight',\n",
    "                       \"Team\"   : 'team',\n",
    "                       \"NOC\"    : 'noc',\n",
    "                       \"Games\"  : 'games',\n",
    "                       \"Year\"   : 'year',\n",
    "                       \"Season\" : 'season',\n",
    "                       \"City\"   : 'city',\n",
    "                       \"Sport\"  : 'sport',\n",
    "                       \"Event\"  : 'event',\n",
    "                       \"Medal\"  : 'medal'}, inplace = True)\n",
    "\n",
    "data.head(2)"
   ]
  },
  {
   "cell_type": "code",
   "execution_count": 7,
   "metadata": {},
   "outputs": [
    {
     "data": {
      "text/html": [
       "<div>\n",
       "<style scoped>\n",
       "    .dataframe tbody tr th:only-of-type {\n",
       "        vertical-align: middle;\n",
       "    }\n",
       "\n",
       "    .dataframe tbody tr th {\n",
       "        vertical-align: top;\n",
       "    }\n",
       "\n",
       "    .dataframe thead th {\n",
       "        text-align: right;\n",
       "    }\n",
       "</style>\n",
       "<table border=\"1\" class=\"dataframe\">\n",
       "  <thead>\n",
       "    <tr style=\"text-align: right;\">\n",
       "      <th></th>\n",
       "      <th>name</th>\n",
       "      <th>gender</th>\n",
       "      <th>age</th>\n",
       "      <th>height</th>\n",
       "      <th>weight</th>\n",
       "      <th>team</th>\n",
       "      <th>noc</th>\n",
       "      <th>year</th>\n",
       "      <th>season</th>\n",
       "      <th>city</th>\n",
       "      <th>sport</th>\n",
       "      <th>event</th>\n",
       "      <th>medal</th>\n",
       "    </tr>\n",
       "  </thead>\n",
       "  <tbody>\n",
       "    <tr>\n",
       "      <th>0</th>\n",
       "      <td>A Dijiang</td>\n",
       "      <td>M</td>\n",
       "      <td>24.0</td>\n",
       "      <td>180.0</td>\n",
       "      <td>80.0</td>\n",
       "      <td>China</td>\n",
       "      <td>CHN</td>\n",
       "      <td>1992</td>\n",
       "      <td>Summer</td>\n",
       "      <td>Barcelona</td>\n",
       "      <td>Basketball</td>\n",
       "      <td>Basketball Men's Basketball</td>\n",
       "      <td>NaN</td>\n",
       "    </tr>\n",
       "    <tr>\n",
       "      <th>1</th>\n",
       "      <td>A Lamusi</td>\n",
       "      <td>M</td>\n",
       "      <td>23.0</td>\n",
       "      <td>170.0</td>\n",
       "      <td>60.0</td>\n",
       "      <td>China</td>\n",
       "      <td>CHN</td>\n",
       "      <td>2012</td>\n",
       "      <td>Summer</td>\n",
       "      <td>London</td>\n",
       "      <td>Judo</td>\n",
       "      <td>Judo Men's Extra-Lightweight</td>\n",
       "      <td>NaN</td>\n",
       "    </tr>\n",
       "  </tbody>\n",
       "</table>\n",
       "</div>"
      ],
      "text/plain": [
       "        name gender   age  height  weight   team  noc  year  season  \\\n",
       "0  A Dijiang      M  24.0   180.0    80.0  China  CHN  1992  Summer   \n",
       "1   A Lamusi      M  23.0   170.0    60.0  China  CHN  2012  Summer   \n",
       "\n",
       "        city       sport                         event medal  \n",
       "0  Barcelona  Basketball   Basketball Men's Basketball   NaN  \n",
       "1     London        Judo  Judo Men's Extra-Lightweight   NaN  "
      ]
     },
     "execution_count": 7,
     "metadata": {},
     "output_type": "execute_result"
    }
   ],
   "source": [
    "# Dropping unnecessary columns\n",
    "data = data.drop([\"id\", \"games\"], axis = 1) # axis = 1 means column\n",
    "\n",
    "data.head(2)"
   ]
  },
  {
   "cell_type": "code",
   "execution_count": 10,
   "metadata": {},
   "outputs": [
    {
     "name": "stdout",
     "output_type": "stream",
     "text": [
      "Number of the Unique Events: 765\n"
     ]
    },
    {
     "data": {
      "text/plain": [
       "array([\"Basketball Men's Basketball\", \"Judo Men's Extra-Lightweight\",\n",
       "       \"Football Men's Football\", \"Tug-Of-War Men's Tug-Of-War\",\n",
       "       \"Speed Skating Women's 500 metres\",\n",
       "       \"Speed Skating Women's 1,000 metres\",\n",
       "       \"Cross Country Skiing Men's 10 kilometres\",\n",
       "       \"Cross Country Skiing Men's 50 kilometres\",\n",
       "       \"Cross Country Skiing Men's 10/15 kilometres Pursuit\",\n",
       "       \"Cross Country Skiing Men's 4 x 10 kilometres Relay\"], dtype=object)"
      ]
     },
     "execution_count": 10,
     "metadata": {},
     "output_type": "execute_result"
    }
   ],
   "source": [
    "unique_event = pd.unique(data.event)\n",
    "print(f\"Number of the Unique Events: {len(unique_event)}\")\n",
    "unique_event[:10]"
   ]
  },
  {
   "cell_type": "code",
   "execution_count": 12,
   "metadata": {},
   "outputs": [
    {
     "name": "stdout",
     "output_type": "stream",
     "text": [
      "<class 'pandas.core.frame.DataFrame'>\n",
      "RangeIndex: 271116 entries, 0 to 271115\n",
      "Data columns (total 13 columns):\n",
      " #   Column  Non-Null Count   Dtype  \n",
      "---  ------  --------------   -----  \n",
      " 0   name    271116 non-null  object \n",
      " 1   gender  271116 non-null  object \n",
      " 2   age     261642 non-null  float64\n",
      " 3   height  271116 non-null  float64\n",
      " 4   weight  271116 non-null  float64\n",
      " 5   team    271116 non-null  object \n",
      " 6   noc     271116 non-null  object \n",
      " 7   year    271116 non-null  int64  \n",
      " 8   season  271116 non-null  object \n",
      " 9   city    271116 non-null  object \n",
      " 10  sport   271116 non-null  object \n",
      " 11  event   271116 non-null  object \n",
      " 12  medal   39783 non-null   object \n",
      "dtypes: float64(3), int64(1), object(9)\n",
      "memory usage: 26.9+ MB\n"
     ]
    }
   ],
   "source": [
    "# looping each event iteratively\n",
    "# Calculating the means height and weight for the event\n",
    "# Equating the lost height and weight means to the event means for the event\n",
    "\n",
    "temporary_data = data.copy() # made a copy to avoid corrupting the real data\n",
    "height_weight_list = [\"height\", \"weight\"]\n",
    "\n",
    "for e in unique_event:\n",
    "    \n",
    "    # event filter\n",
    "    event_filter = temporary_data.event == e\n",
    "    # filtering the data for event\n",
    "    data_filtered = temporary_data[event_filter]\n",
    "    \n",
    "    # calculating means of height and weight for event\n",
    "    \n",
    "    for s in height_weight_list:\n",
    "        mean = np.round(np.mean(data_filtered[s]), 2)\n",
    "        \n",
    "        if ~np.isnan(mean): # if there is a mean for the event\n",
    "            data_filtered[s] = data_filtered[s].fillna(mean)\n",
    "            \n",
    "        else: # if there is a mean, calculate the mean\n",
    "            all_data_mean = np.round(np.mean(data[s]), 2)\n",
    "            data_filtered[s] = data_filtered[s].fillna(all_data_mean)\n",
    "    \n",
    "    # syncing the data with missing values filled in the activity to temporary_data\n",
    "    temporary_data[event_filter] = data_filtered\n",
    "    \n",
    "# syncing the data with missing values filled to real data\n",
    "data = temporary_data.copy()\n",
    "data.info() # looking at the number of missing values in the height and weight columns"
   ]
  },
  {
   "cell_type": "code",
   "execution_count": 14,
   "metadata": {},
   "outputs": [
    {
     "name": "stdout",
     "output_type": "stream",
     "text": [
      "The average age: 25.56\n",
      "<class 'pandas.core.frame.DataFrame'>\n",
      "RangeIndex: 271116 entries, 0 to 271115\n",
      "Data columns (total 13 columns):\n",
      " #   Column  Non-Null Count   Dtype  \n",
      "---  ------  --------------   -----  \n",
      " 0   name    271116 non-null  object \n",
      " 1   gender  271116 non-null  object \n",
      " 2   age     271116 non-null  float64\n",
      " 3   height  271116 non-null  float64\n",
      " 4   weight  271116 non-null  float64\n",
      " 5   team    271116 non-null  object \n",
      " 6   noc     271116 non-null  object \n",
      " 7   year    271116 non-null  int64  \n",
      " 8   season  271116 non-null  object \n",
      " 9   city    271116 non-null  object \n",
      " 10  sport   271116 non-null  object \n",
      " 11  event   271116 non-null  object \n",
      " 12  medal   39783 non-null   object \n",
      "dtypes: float64(3), int64(1), object(9)\n",
      "memory usage: 26.9+ MB\n"
     ]
    }
   ],
   "source": [
    "# Finding missing values on age variable\n",
    "# Detecting values defined in age variable\n",
    "\n",
    "age_mean = np.round(np.mean(data.age), 2)\n",
    "print(f\"The average age: {age_mean}\")\n",
    "\n",
    "data[\"age\"] = data[\"age\"].fillna(age_mean)\n",
    "\n",
    "data.info()"
   ]
  },
  {
   "cell_type": "markdown",
   "metadata": {},
   "source": [
    "### Extracting the non-medalist atheletes from the dataset"
   ]
  },
  {
   "cell_type": "code",
   "execution_count": 15,
   "metadata": {},
   "outputs": [
    {
     "data": {
      "text/plain": [
       "231333"
      ]
     },
     "execution_count": 15,
     "metadata": {},
     "output_type": "execute_result"
    }
   ],
   "source": [
    "medal_variable = data[\"medal\"]\n",
    "pd.isnull(medal_variable).sum()"
   ]
  },
  {
   "cell_type": "code",
   "execution_count": 16,
   "metadata": {},
   "outputs": [],
   "source": [
    "medal_variable_filter = ~pd.isnull(medal_variable)"
   ]
  },
  {
   "cell_type": "code",
   "execution_count": 17,
   "metadata": {},
   "outputs": [
    {
     "data": {
      "text/html": [
       "<div>\n",
       "<style scoped>\n",
       "    .dataframe tbody tr th:only-of-type {\n",
       "        vertical-align: middle;\n",
       "    }\n",
       "\n",
       "    .dataframe tbody tr th {\n",
       "        vertical-align: top;\n",
       "    }\n",
       "\n",
       "    .dataframe thead th {\n",
       "        text-align: right;\n",
       "    }\n",
       "</style>\n",
       "<table border=\"1\" class=\"dataframe\">\n",
       "  <thead>\n",
       "    <tr style=\"text-align: right;\">\n",
       "      <th></th>\n",
       "      <th>name</th>\n",
       "      <th>gender</th>\n",
       "      <th>age</th>\n",
       "      <th>height</th>\n",
       "      <th>weight</th>\n",
       "      <th>team</th>\n",
       "      <th>noc</th>\n",
       "      <th>year</th>\n",
       "      <th>season</th>\n",
       "      <th>city</th>\n",
       "      <th>sport</th>\n",
       "      <th>event</th>\n",
       "      <th>medal</th>\n",
       "    </tr>\n",
       "  </thead>\n",
       "  <tbody>\n",
       "    <tr>\n",
       "      <th>3</th>\n",
       "      <td>Edgar Lindenau Aabye</td>\n",
       "      <td>M</td>\n",
       "      <td>34.0</td>\n",
       "      <td>182.48</td>\n",
       "      <td>95.62</td>\n",
       "      <td>Denmark/Sweden</td>\n",
       "      <td>DEN</td>\n",
       "      <td>1900</td>\n",
       "      <td>Summer</td>\n",
       "      <td>Paris</td>\n",
       "      <td>Tug-Of-War</td>\n",
       "      <td>Tug-Of-War Men's Tug-Of-War</td>\n",
       "      <td>Gold</td>\n",
       "    </tr>\n",
       "    <tr>\n",
       "      <th>37</th>\n",
       "      <td>Arvo Ossian Aaltonen</td>\n",
       "      <td>M</td>\n",
       "      <td>30.0</td>\n",
       "      <td>182.01</td>\n",
       "      <td>76.69</td>\n",
       "      <td>Finland</td>\n",
       "      <td>FIN</td>\n",
       "      <td>1920</td>\n",
       "      <td>Summer</td>\n",
       "      <td>Antwerpen</td>\n",
       "      <td>Swimming</td>\n",
       "      <td>Swimming Men's 200 metres Breaststroke</td>\n",
       "      <td>Bronze</td>\n",
       "    </tr>\n",
       "    <tr>\n",
       "      <th>38</th>\n",
       "      <td>Arvo Ossian Aaltonen</td>\n",
       "      <td>M</td>\n",
       "      <td>30.0</td>\n",
       "      <td>177.00</td>\n",
       "      <td>75.00</td>\n",
       "      <td>Finland</td>\n",
       "      <td>FIN</td>\n",
       "      <td>1920</td>\n",
       "      <td>Summer</td>\n",
       "      <td>Antwerpen</td>\n",
       "      <td>Swimming</td>\n",
       "      <td>Swimming Men's 400 metres Breaststroke</td>\n",
       "      <td>Bronze</td>\n",
       "    </tr>\n",
       "    <tr>\n",
       "      <th>40</th>\n",
       "      <td>Juhamatti Tapio Aaltonen</td>\n",
       "      <td>M</td>\n",
       "      <td>28.0</td>\n",
       "      <td>184.00</td>\n",
       "      <td>85.00</td>\n",
       "      <td>Finland</td>\n",
       "      <td>FIN</td>\n",
       "      <td>2014</td>\n",
       "      <td>Winter</td>\n",
       "      <td>Sochi</td>\n",
       "      <td>Ice Hockey</td>\n",
       "      <td>Ice Hockey Men's Ice Hockey</td>\n",
       "      <td>Bronze</td>\n",
       "    </tr>\n",
       "    <tr>\n",
       "      <th>41</th>\n",
       "      <td>Paavo Johannes Aaltonen</td>\n",
       "      <td>M</td>\n",
       "      <td>28.0</td>\n",
       "      <td>175.00</td>\n",
       "      <td>64.00</td>\n",
       "      <td>Finland</td>\n",
       "      <td>FIN</td>\n",
       "      <td>1948</td>\n",
       "      <td>Summer</td>\n",
       "      <td>London</td>\n",
       "      <td>Gymnastics</td>\n",
       "      <td>Gymnastics Men's Individual All-Around</td>\n",
       "      <td>Bronze</td>\n",
       "    </tr>\n",
       "  </tbody>\n",
       "</table>\n",
       "</div>"
      ],
      "text/plain": [
       "                        name gender   age  height  weight            team  \\\n",
       "3       Edgar Lindenau Aabye      M  34.0  182.48   95.62  Denmark/Sweden   \n",
       "37      Arvo Ossian Aaltonen      M  30.0  182.01   76.69         Finland   \n",
       "38      Arvo Ossian Aaltonen      M  30.0  177.00   75.00         Finland   \n",
       "40  Juhamatti Tapio Aaltonen      M  28.0  184.00   85.00         Finland   \n",
       "41   Paavo Johannes Aaltonen      M  28.0  175.00   64.00         Finland   \n",
       "\n",
       "    noc  year  season       city       sport  \\\n",
       "3   DEN  1900  Summer      Paris  Tug-Of-War   \n",
       "37  FIN  1920  Summer  Antwerpen    Swimming   \n",
       "38  FIN  1920  Summer  Antwerpen    Swimming   \n",
       "40  FIN  2014  Winter      Sochi  Ice Hockey   \n",
       "41  FIN  1948  Summer     London  Gymnastics   \n",
       "\n",
       "                                     event   medal  \n",
       "3              Tug-Of-War Men's Tug-Of-War    Gold  \n",
       "37  Swimming Men's 200 metres Breaststroke  Bronze  \n",
       "38  Swimming Men's 400 metres Breaststroke  Bronze  \n",
       "40             Ice Hockey Men's Ice Hockey  Bronze  \n",
       "41  Gymnastics Men's Individual All-Around  Bronze  "
      ]
     },
     "execution_count": 17,
     "metadata": {},
     "output_type": "execute_result"
    }
   ],
   "source": [
    "data = data[medal_variable_filter]\n",
    "data.head(5)"
   ]
  },
  {
   "cell_type": "code",
   "execution_count": 18,
   "metadata": {},
   "outputs": [
    {
     "name": "stdout",
     "output_type": "stream",
     "text": [
      "<class 'pandas.core.frame.DataFrame'>\n",
      "Int64Index: 39783 entries, 3 to 271103\n",
      "Data columns (total 13 columns):\n",
      " #   Column  Non-Null Count  Dtype  \n",
      "---  ------  --------------  -----  \n",
      " 0   name    39783 non-null  object \n",
      " 1   gender  39783 non-null  object \n",
      " 2   age     39783 non-null  float64\n",
      " 3   height  39783 non-null  float64\n",
      " 4   weight  39783 non-null  float64\n",
      " 5   team    39783 non-null  object \n",
      " 6   noc     39783 non-null  object \n",
      " 7   year    39783 non-null  int64  \n",
      " 8   season  39783 non-null  object \n",
      " 9   city    39783 non-null  object \n",
      " 10  sport   39783 non-null  object \n",
      " 11  event   39783 non-null  object \n",
      " 12  medal   39783 non-null  object \n",
      "dtypes: float64(3), int64(1), object(9)\n",
      "memory usage: 4.2+ MB\n"
     ]
    }
   ],
   "source": [
    "data.info()"
   ]
  },
  {
   "cell_type": "code",
   "execution_count": 19,
   "metadata": {},
   "outputs": [],
   "source": [
    "# Saving the dataset for later use\n",
    "data.to_csv(\"Cleared_olypmics_dataset.csv\", index = False)"
   ]
  },
  {
   "cell_type": "code",
   "execution_count": 28,
   "metadata": {},
   "outputs": [],
   "source": [
    "# Drawing the histogram graphs\n",
    "\n",
    "def plotHistogram(variable):\n",
    "    \"\"\"\n",
    "    Input : Variable / Column Name\n",
    "    Output: Histogram of variable\n",
    "    \"\"\"\n",
    "    plt.figure()\n",
    "    plt.hist(data[variable], bins = 80, color = \"blue\")\n",
    "    plt.xlabel(variable, color = \"green\")\n",
    "    plt.ylabel(\"Frequency\", color = \"green\")\n",
    "    plt.title(f\"Data Frequency - {variable}\", color = \"green\")\n",
    "    plt.show()"
   ]
  },
  {
   "cell_type": "code",
   "execution_count": 29,
   "metadata": {},
   "outputs": [
    {
     "data": {
      "image/png": "[encoded data removed]",
      "text/plain": [
       "<Figure size 432x288 with 1 Axes>"
      ]
     },
     "metadata": {
      "needs_background": "light"
     },
     "output_type": "display_data"
    },
    {
     "data": {
      "image/png": "[encoded data removed]",
      "text/plain": [
       "<Figure size 432x288 with 1 Axes>"
      ]
     },
     "metadata": {
      "needs_background": "light"
     },
     "output_type": "display_data"
    },
    {
     "data": {
      "image/png": "[encoded data removed]",
      "text/plain": [
       "<Figure size 432x288 with 1 Axes>"
      ]
     },
     "metadata": {
      "needs_background": "light"
     },
     "output_type": "display_data"
    },
    {
     "data": {
      "image/png": "[encoded data removed]",
      "text/plain": [
       "<Figure size 432x288 with 1 Axes>"
      ]
     },
     "metadata": {
      "needs_background": "light"
     },
     "output_type": "display_data"
    }
   ],
   "source": [
    "# histogram for all numerical variables\n",
    "\n",
    "numeric_variable = [\"age\", \"height\", \"weight\", \"year\"]\n",
    "\n",
    "for i in numeric_variable:\n",
    "    plotHistogram(i)"
   ]
  },
  {
   "cell_type": "code",
   "execution_count": 30,
   "metadata": {},
   "outputs": [
    {
     "data": {
      "text/html": [
       "<div>\n",
       "<style scoped>\n",
       "    .dataframe tbody tr th:only-of-type {\n",
       "        vertical-align: middle;\n",
       "    }\n",
       "\n",
       "    .dataframe tbody tr th {\n",
       "        vertical-align: top;\n",
       "    }\n",
       "\n",
       "    .dataframe thead th {\n",
       "        text-align: right;\n",
       "    }\n",
       "</style>\n",
       "<table border=\"1\" class=\"dataframe\">\n",
       "  <thead>\n",
       "    <tr style=\"text-align: right;\">\n",
       "      <th></th>\n",
       "      <th>age</th>\n",
       "      <th>height</th>\n",
       "      <th>weight</th>\n",
       "      <th>year</th>\n",
       "    </tr>\n",
       "  </thead>\n",
       "  <tbody>\n",
       "    <tr>\n",
       "      <th>count</th>\n",
       "      <td>39783.000000</td>\n",
       "      <td>39783.000000</td>\n",
       "      <td>39783.000000</td>\n",
       "      <td>39783.000000</td>\n",
       "    </tr>\n",
       "    <tr>\n",
       "      <th>mean</th>\n",
       "      <td>25.918456</td>\n",
       "      <td>177.336690</td>\n",
       "      <td>73.738320</td>\n",
       "      <td>1973.943845</td>\n",
       "    </tr>\n",
       "    <tr>\n",
       "      <th>std</th>\n",
       "      <td>5.859569</td>\n",
       "      <td>10.170124</td>\n",
       "      <td>13.979041</td>\n",
       "      <td>33.822857</td>\n",
       "    </tr>\n",
       "    <tr>\n",
       "      <th>min</th>\n",
       "      <td>10.000000</td>\n",
       "      <td>136.000000</td>\n",
       "      <td>28.000000</td>\n",
       "      <td>1896.000000</td>\n",
       "    </tr>\n",
       "    <tr>\n",
       "      <th>25%</th>\n",
       "      <td>22.000000</td>\n",
       "      <td>170.000000</td>\n",
       "      <td>64.000000</td>\n",
       "      <td>1952.000000</td>\n",
       "    </tr>\n",
       "    <tr>\n",
       "      <th>50%</th>\n",
       "      <td>25.000000</td>\n",
       "      <td>177.480000</td>\n",
       "      <td>73.000000</td>\n",
       "      <td>1984.000000</td>\n",
       "    </tr>\n",
       "    <tr>\n",
       "      <th>75%</th>\n",
       "      <td>29.000000</td>\n",
       "      <td>184.000000</td>\n",
       "      <td>82.000000</td>\n",
       "      <td>2002.000000</td>\n",
       "    </tr>\n",
       "    <tr>\n",
       "      <th>max</th>\n",
       "      <td>73.000000</td>\n",
       "      <td>223.000000</td>\n",
       "      <td>182.000000</td>\n",
       "      <td>2016.000000</td>\n",
       "    </tr>\n",
       "  </tbody>\n",
       "</table>\n",
       "</div>"
      ],
      "text/plain": [
       "                age        height        weight          year\n",
       "count  39783.000000  39783.000000  39783.000000  39783.000000\n",
       "mean      25.918456    177.336690     73.738320   1973.943845\n",
       "std        5.859569     10.170124     13.979041     33.822857\n",
       "min       10.000000    136.000000     28.000000   1896.000000\n",
       "25%       22.000000    170.000000     64.000000   1952.000000\n",
       "50%       25.000000    177.480000     73.000000   1984.000000\n",
       "75%       29.000000    184.000000     82.000000   2002.000000\n",
       "max       73.000000    223.000000    182.000000   2016.000000"
      ]
     },
     "execution_count": 30,
     "metadata": {},
     "output_type": "execute_result"
    }
   ],
   "source": [
    "data.describe()"
   ]
  }
 ],
 "metadata": {
  "interpreter": {
   "hash": "97ae724bfa85b9b34df7982b8bb8c7216f435b92902d749e4263f71162bea840"
  },
  "kernelspec": {
   "display_name": "Python 3.8.3 64-bit ('base': conda)",
   "language": "python",
   "name": "python3"
  },
  "language_info": {
   "codemirror_mode": {
    "name": "ipython",
    "version": 3
   },
   "file_extension": ".py",
   "mimetype": "text/x-python",
   "name": "python",
   "nbconvert_exporter": "python",
   "pygments_lexer": "ipython3",
   "version": "3.8.3"
  },
  "orig_nbformat": 4
 },
 "nbformat": 4,
 "nbformat_minor": 2
}
