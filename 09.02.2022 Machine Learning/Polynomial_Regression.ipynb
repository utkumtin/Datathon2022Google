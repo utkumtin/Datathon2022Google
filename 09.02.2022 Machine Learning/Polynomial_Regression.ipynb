{
 "cells": [
  {
   "cell_type": "code",
   "execution_count": 1,
   "metadata": {},
   "outputs": [],
   "source": [
    "import numpy as np\n",
    "import pandas as pd\n",
    "import matplotlib.pyplot as plt\n",
    "%matplotlib inline\n",
    "\n",
    "from sklearn.linear_model import LinearRegression\n",
    "from sklearn.preprocessing import PolynomialFeatures"
   ]
  },
  {
   "cell_type": "code",
   "execution_count": 3,
   "metadata": {},
   "outputs": [
    {
     "data": {
      "text/html": [
       "<div>\n",
       "<style scoped>\n",
       "    .dataframe tbody tr th:only-of-type {\n",
       "        vertical-align: middle;\n",
       "    }\n",
       "\n",
       "    .dataframe tbody tr th {\n",
       "        vertical-align: top;\n",
       "    }\n",
       "\n",
       "    .dataframe thead th {\n",
       "        text-align: right;\n",
       "    }\n",
       "</style>\n",
       "<table border=\"1\" class=\"dataframe\">\n",
       "  <thead>\n",
       "    <tr style=\"text-align: right;\">\n",
       "      <th></th>\n",
       "      <th>car_price</th>\n",
       "      <th>car_max_speed</th>\n",
       "    </tr>\n",
       "  </thead>\n",
       "  <tbody>\n",
       "    <tr>\n",
       "      <th>0</th>\n",
       "      <td>60</td>\n",
       "      <td>180</td>\n",
       "    </tr>\n",
       "    <tr>\n",
       "      <th>1</th>\n",
       "      <td>70</td>\n",
       "      <td>180</td>\n",
       "    </tr>\n",
       "    <tr>\n",
       "      <th>2</th>\n",
       "      <td>80</td>\n",
       "      <td>200</td>\n",
       "    </tr>\n",
       "    <tr>\n",
       "      <th>3</th>\n",
       "      <td>100</td>\n",
       "      <td>200</td>\n",
       "    </tr>\n",
       "    <tr>\n",
       "      <th>4</th>\n",
       "      <td>120</td>\n",
       "      <td>200</td>\n",
       "    </tr>\n",
       "  </tbody>\n",
       "</table>\n",
       "</div>"
      ],
      "text/plain": [
       "   car_price  car_max_speed\n",
       "0         60            180\n",
       "1         70            180\n",
       "2         80            200\n",
       "3        100            200\n",
       "4        120            200"
      ]
     },
     "execution_count": 3,
     "metadata": {},
     "output_type": "execute_result"
    }
   ],
   "source": [
    "df = pd.read_csv(\"C:/Users/Utku/Desktop/Jupyter Notebook/Datathon/Datasets/polynomial_regression_dataset.csv\")\n",
    "df.head()"
   ]
  },
  {
   "cell_type": "code",
   "execution_count": 4,
   "metadata": {},
   "outputs": [],
   "source": [
    "x = df.car_price.values.reshape(-1, 1)\n",
    "y = df.car_max_speed.values.reshape(-1 ,1)"
   ]
  },
  {
   "cell_type": "code",
   "execution_count": 5,
   "metadata": {},
   "outputs": [
    {
     "data": {
      "image/png": "[encoded data removed]",
      "text/plain": [
       "<Figure size 432x288 with 1 Axes>"
      ]
     },
     "metadata": {
      "needs_background": "light"
     },
     "output_type": "display_data"
    }
   ],
   "source": [
    "plt.scatter(x, y)\n",
    "plt.xlabel(\"Car Price\")\n",
    "plt.ylabel(\"Max Speed\")\n",
    "plt.title(\"Relation of Price - Max Speed\")\n",
    "plt.grid(True)\n",
    "plt.show()"
   ]
  },
  {
   "cell_type": "code",
   "execution_count": 6,
   "metadata": {},
   "outputs": [
    {
     "data": {
      "text/plain": [
       "LinearRegression()"
      ]
     },
     "execution_count": 6,
     "metadata": {},
     "output_type": "execute_result"
    }
   ],
   "source": [
    "# Linear Regression Model Training\n",
    "lr = LinearRegression()\n",
    "\n",
    "lr.fit(x, y)"
   ]
  },
  {
   "cell_type": "code",
   "execution_count": 7,
   "metadata": {},
   "outputs": [
    {
     "name": "stdout",
     "output_type": "stream",
     "text": [
      "Max speed prediction of 10M car:  [[871.66401826]]\n"
     ]
    },
    {
     "data": {
      "image/png": "[encoded data removed]",
      "text/plain": [
       "<Figure size 432x288 with 1 Axes>"
      ]
     },
     "metadata": {
      "needs_background": "light"
     },
     "output_type": "display_data"
    }
   ],
   "source": [
    "# predict\n",
    "y_predict = lr.predict(x)\n",
    "\n",
    "plt.scatter(x, y)\n",
    "plt.plot(x, y_predict, color= \"r\")\n",
    "plt.xlabel(\"Car Price\")\n",
    "plt.ylabel(\"Max Speed\")\n",
    "plt.title(\"Relation of Price - Max Speed\")\n",
    "plt.grid(True)\n",
    "\n",
    "car_price = 10000\n",
    "print(\"Max speed prediction of 10M car: \", lr.predict((np.array([car_price]).reshape(-1, 1))))"
   ]
  },
  {
   "cell_type": "code",
   "execution_count": 8,
   "metadata": {},
   "outputs": [
    {
     "data": {
      "text/plain": [
       "array([[1.0000000e+00, 6.0000000e+01, 3.6000000e+03, 2.1600000e+05,\n",
       "        1.2960000e+07],\n",
       "       [1.0000000e+00, 7.0000000e+01, 4.9000000e+03, 3.4300000e+05,\n",
       "        2.4010000e+07],\n",
       "       [1.0000000e+00, 8.0000000e+01, 6.4000000e+03, 5.1200000e+05,\n",
       "        4.0960000e+07],\n",
       "       [1.0000000e+00, 1.0000000e+02, 1.0000000e+04, 1.0000000e+06,\n",
       "        1.0000000e+08],\n",
       "       [1.0000000e+00, 1.2000000e+02, 1.4400000e+04, 1.7280000e+06,\n",
       "        2.0736000e+08],\n",
       "       [1.0000000e+00, 1.5000000e+02, 2.2500000e+04, 3.3750000e+06,\n",
       "        5.0625000e+08],\n",
       "       [1.0000000e+00, 2.0000000e+02, 4.0000000e+04, 8.0000000e+06,\n",
       "        1.6000000e+09],\n",
       "       [1.0000000e+00, 2.5000000e+02, 6.2500000e+04, 1.5625000e+07,\n",
       "        3.9062500e+09],\n",
       "       [1.0000000e+00, 3.0000000e+02, 9.0000000e+04, 2.7000000e+07,\n",
       "        8.1000000e+09],\n",
       "       [1.0000000e+00, 4.0000000e+02, 1.6000000e+05, 6.4000000e+07,\n",
       "        2.5600000e+10],\n",
       "       [1.0000000e+00, 5.0000000e+02, 2.5000000e+05, 1.2500000e+08,\n",
       "        6.2500000e+10],\n",
       "       [1.0000000e+00, 7.5000000e+02, 5.6250000e+05, 4.2187500e+08,\n",
       "        3.1640625e+11],\n",
       "       [1.0000000e+00, 1.0000000e+03, 1.0000000e+06, 1.0000000e+09,\n",
       "        1.0000000e+12],\n",
       "       [1.0000000e+00, 2.0000000e+03, 4.0000000e+06, 8.0000000e+09,\n",
       "        1.6000000e+13],\n",
       "       [1.0000000e+00, 3.0000000e+03, 9.0000000e+06, 2.7000000e+10,\n",
       "        8.1000000e+13]])"
      ]
     },
     "execution_count": 8,
     "metadata": {},
     "output_type": "execute_result"
    }
   ],
   "source": [
    "# Polinomial Regression y = b0 + b1 * x + b2 * x ^ 2 + b3 * x ^ 3 + bn * x ^ n\n",
    "\n",
    "# polinomial features\n",
    "polinom_regression = PolynomialFeatures(degree= 4) # 4th degree polinom\n",
    "\n",
    "x_polinom = polinom_regression.fit_transform(x)\n",
    "x_polinom"
   ]
  },
  {
   "cell_type": "code",
   "execution_count": 9,
   "metadata": {},
   "outputs": [
    {
     "data": {
      "text/plain": [
       "LinearRegression()"
      ]
     },
     "execution_count": 9,
     "metadata": {},
     "output_type": "execute_result"
    }
   ],
   "source": [
    "lr2 = LinearRegression()\n",
    "lr2.fit(x_polinom, y)"
   ]
  },
  {
   "cell_type": "code",
   "execution_count": 10,
   "metadata": {},
   "outputs": [
    {
     "data": {
      "image/png": "[encoded data removed]",
      "text/plain": [
       "<Figure size 432x288 with 1 Axes>"
      ]
     },
     "metadata": {
      "needs_background": "light"
     },
     "output_type": "display_data"
    }
   ],
   "source": [
    "# predict\n",
    "y_predict2 = lr2.predict(x_polinom)\n",
    "\n",
    "plt.scatter(x, y)\n",
    "plt.plot(x, y_predict, color= \"r\", label= \"Linear\")\n",
    "plt.plot(x, y_predict2, color= \"b\", label= \"Polinomial\")\n",
    "plt.legend()\n",
    "plt.xlabel(\"Car Price\")\n",
    "plt.ylabel(\"Max Speed\")\n",
    "plt.title(\"Relation of Price - Max Speed\")\n",
    "plt.grid(True)"
   ]
  }
 ],
 "metadata": {
  "interpreter": {
   "hash": "97ae724bfa85b9b34df7982b8bb8c7216f435b92902d749e4263f71162bea840"
  },
  "kernelspec": {
   "display_name": "Python 3.8.12 ('base')",
   "language": "python",
   "name": "python3"
  },
  "language_info": {
   "codemirror_mode": {
    "name": "ipython",
    "version": 3
   },
   "file_extension": ".py",
   "mimetype": "text/x-python",
   "name": "python",
   "nbconvert_exporter": "python",
   "pygments_lexer": "ipython3",
   "version": "3.8.12"
  },
  "orig_nbformat": 4
 },
 "nbformat": 4,
 "nbformat_minor": 2
}
