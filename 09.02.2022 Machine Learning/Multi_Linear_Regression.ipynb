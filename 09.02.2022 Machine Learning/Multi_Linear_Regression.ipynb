{
 "cells": [
  {
   "cell_type": "code",
   "execution_count": 7,
   "metadata": {},
   "outputs": [],
   "source": [
    "import numpy as np\n",
    "import pandas as pd\n",
    "import matplotlib.pyplot as plt\n",
    "%matplotlib inline\n",
    "\n",
    "from sklearn.linear_model import LinearRegression"
   ]
  },
  {
   "cell_type": "code",
   "execution_count": 8,
   "metadata": {},
   "outputs": [
    {
     "data": {
      "text/html": [
       "<div>\n",
       "<style scoped>\n",
       "    .dataframe tbody tr th:only-of-type {\n",
       "        vertical-align: middle;\n",
       "    }\n",
       "\n",
       "    .dataframe tbody tr th {\n",
       "        vertical-align: top;\n",
       "    }\n",
       "\n",
       "    .dataframe thead th {\n",
       "        text-align: right;\n",
       "    }\n",
       "</style>\n",
       "<table border=\"1\" class=\"dataframe\">\n",
       "  <thead>\n",
       "    <tr style=\"text-align: right;\">\n",
       "      <th></th>\n",
       "      <th>experience</th>\n",
       "      <th>salary</th>\n",
       "      <th>age</th>\n",
       "    </tr>\n",
       "  </thead>\n",
       "  <tbody>\n",
       "    <tr>\n",
       "      <th>0</th>\n",
       "      <td>0.5</td>\n",
       "      <td>2500</td>\n",
       "      <td>22</td>\n",
       "    </tr>\n",
       "    <tr>\n",
       "      <th>1</th>\n",
       "      <td>0.0</td>\n",
       "      <td>2250</td>\n",
       "      <td>21</td>\n",
       "    </tr>\n",
       "    <tr>\n",
       "      <th>2</th>\n",
       "      <td>1.0</td>\n",
       "      <td>2750</td>\n",
       "      <td>23</td>\n",
       "    </tr>\n",
       "    <tr>\n",
       "      <th>3</th>\n",
       "      <td>5.0</td>\n",
       "      <td>8000</td>\n",
       "      <td>25</td>\n",
       "    </tr>\n",
       "    <tr>\n",
       "      <th>4</th>\n",
       "      <td>8.0</td>\n",
       "      <td>9000</td>\n",
       "      <td>28</td>\n",
       "    </tr>\n",
       "  </tbody>\n",
       "</table>\n",
       "</div>"
      ],
      "text/plain": [
       "   experience  salary  age\n",
       "0         0.5    2500   22\n",
       "1         0.0    2250   21\n",
       "2         1.0    2750   23\n",
       "3         5.0    8000   25\n",
       "4         8.0    9000   28"
      ]
     },
     "execution_count": 8,
     "metadata": {},
     "output_type": "execute_result"
    }
   ],
   "source": [
    "df = pd.read_csv(\"C:/Users/Utku/Desktop/Jupyter Notebook/Datathon/Datasets/multi_linear_regression_dataset.csv\")\n",
    "df.head()"
   ]
  },
  {
   "cell_type": "code",
   "execution_count": 9,
   "metadata": {},
   "outputs": [
    {
     "data": {
      "text/plain": [
       "array([[ 0.5, 22. ],\n",
       "       [ 0. , 21. ],\n",
       "       [ 1. , 23. ],\n",
       "       [ 5. , 25. ],\n",
       "       [ 8. , 28. ],\n",
       "       [ 4. , 23. ],\n",
       "       [15. , 35. ],\n",
       "       [ 7. , 29. ],\n",
       "       [ 3. , 22. ],\n",
       "       [ 2. , 23. ],\n",
       "       [12. , 32. ],\n",
       "       [10. , 30. ],\n",
       "       [14. , 34. ],\n",
       "       [ 6. , 27. ]])"
      ]
     },
     "execution_count": 9,
     "metadata": {},
     "output_type": "execute_result"
    }
   ],
   "source": [
    "x = df.iloc[:, [0, 2]].values\n",
    "x"
   ]
  },
  {
   "cell_type": "code",
   "execution_count": 10,
   "metadata": {},
   "outputs": [
    {
     "data": {
      "text/plain": [
       "array([[ 2500],\n",
       "       [ 2250],\n",
       "       [ 2750],\n",
       "       [ 8000],\n",
       "       [ 9000],\n",
       "       [ 6900],\n",
       "       [20000],\n",
       "       [ 8500],\n",
       "       [ 6000],\n",
       "       [ 3500],\n",
       "       [15000],\n",
       "       [13000],\n",
       "       [18000],\n",
       "       [ 7500]], dtype=int64)"
      ]
     },
     "execution_count": 10,
     "metadata": {},
     "output_type": "execute_result"
    }
   ],
   "source": [
    "y = df.salary.values.reshape(-1, 1)\n",
    "y"
   ]
  },
  {
   "cell_type": "code",
   "execution_count": 11,
   "metadata": {},
   "outputs": [
    {
     "data": {
      "text/plain": [
       "LinearRegression()"
      ]
     },
     "execution_count": 11,
     "metadata": {},
     "output_type": "execute_result"
    }
   ],
   "source": [
    "# Multi Linear Regression Model Training\n",
    "\n",
    "# Multi Linear Regression Model\n",
    "multi_linear_regression = LinearRegression()\n",
    "\n",
    "# Linear Regression Training\n",
    "multi_linear_regression.fit(x, y)"
   ]
  },
  {
   "cell_type": "code",
   "execution_count": 14,
   "metadata": {},
   "outputs": [
    {
     "name": "stdout",
     "output_type": "stream",
     "text": [
      "Salary of 10 year experience and age 35: [11046.35815877]\n"
     ]
    }
   ],
   "source": [
    "# test 1\n",
    "test_data1 = np.array([[10, 35]]) # experience = 10, age = 35\n",
    "test_result1 = multi_linear_regression.predict(test_data1)\n",
    "\n",
    "print(f\"Salary of 10 year experience and age 35: {test_result1[0]}\")"
   ]
  },
  {
   "cell_type": "code",
   "execution_count": 15,
   "metadata": {},
   "outputs": [
    {
     "name": "stdout",
     "output_type": "stream",
     "text": [
      "Salary: [3418.85455609]\n"
     ]
    }
   ],
   "source": [
    "# test 2\n",
    "test_data2 = np.array([[5, 35]])\n",
    "test_result2 = multi_linear_regression.predict(test_data2)\n",
    "\n",
    "print(f\"Salary: {test_result2[0]}\")"
   ]
  }
 ],
 "metadata": {
  "interpreter": {
   "hash": "97ae724bfa85b9b34df7982b8bb8c7216f435b92902d749e4263f71162bea840"
  },
  "kernelspec": {
   "display_name": "Python 3.8.12 ('base')",
   "language": "python",
   "name": "python3"
  },
  "language_info": {
   "codemirror_mode": {
    "name": "ipython",
    "version": 3
   },
   "file_extension": ".py",
   "mimetype": "text/x-python",
   "name": "python",
   "nbconvert_exporter": "python",
   "pygments_lexer": "ipython3",
   "version": "3.8.12"
  },
  "orig_nbformat": 4
 },
 "nbformat": 4,
 "nbformat_minor": 2
}
